{
 "cells": [
  {
   "cell_type": "code",
   "execution_count": 1,
   "id": "c80ec2cb",
   "metadata": {},
   "outputs": [],
   "source": [
    "import numpy as np\n",
    "import pandas as pd\n",
    "import scipy\n",
    "from math import sqrt\n",
    "import matplotlib.pyplot as plt\n",
    "\n",
    "#estimators\n",
    "from sklearn.ensemble import RandomForestRegressor\n",
    "from sklearn.linear_model import LinearRegression\n",
    "from sklearn.svm import SVR\n",
    "from sklearn import linear_model\n",
    "from sklearn.metrics import accuracy_score, classification_report\n",
    "from sklearn.ensemble import RandomForestClassifier, GradientBoostingClassifier\n",
    "from sklearn.tree import DecisionTreeClassifier\n",
    "\n",
    "#model metrics\n",
    "from sklearn.metrics import mean_squared_error\n",
    "from sklearn.metrics import r2_score\n",
    "from sklearn.model_selection import cross_val_score\n",
    "\n",
    "#cross validation\n",
    "from sklearn.model_selection import train_test_split"
   ]
  },
  {
   "cell_type": "code",
   "execution_count": 2,
   "id": "b59715e9",
   "metadata": {},
   "outputs": [
    {
     "data": {
      "text/html": [
       "<div>\n",
       "<style scoped>\n",
       "    .dataframe tbody tr th:only-of-type {\n",
       "        vertical-align: middle;\n",
       "    }\n",
       "\n",
       "    .dataframe tbody tr th {\n",
       "        vertical-align: top;\n",
       "    }\n",
       "\n",
       "    .dataframe thead th {\n",
       "        text-align: right;\n",
       "    }\n",
       "</style>\n",
       "<table border=\"1\" class=\"dataframe\">\n",
       "  <thead>\n",
       "    <tr style=\"text-align: right;\">\n",
       "      <th></th>\n",
       "      <th>ID</th>\n",
       "      <th>LIMIT_BAL</th>\n",
       "      <th>SEX</th>\n",
       "      <th>EDUCATION</th>\n",
       "      <th>MARRIAGE</th>\n",
       "      <th>AGE</th>\n",
       "      <th>PAY_1</th>\n",
       "      <th>PAY_2</th>\n",
       "      <th>PAY_3</th>\n",
       "      <th>PAY_4</th>\n",
       "      <th>...</th>\n",
       "      <th>BILL_AMT4</th>\n",
       "      <th>BILL_AMT5</th>\n",
       "      <th>BILL_AMT6</th>\n",
       "      <th>PAY_AMT1</th>\n",
       "      <th>PAY_AMT2</th>\n",
       "      <th>PAY_AMT3</th>\n",
       "      <th>PAY_AMT4</th>\n",
       "      <th>PAY_AMT5</th>\n",
       "      <th>PAY_AMT6</th>\n",
       "      <th>DEFAULT_STATUS</th>\n",
       "    </tr>\n",
       "  </thead>\n",
       "  <tbody>\n",
       "    <tr>\n",
       "      <th>0</th>\n",
       "      <td>1</td>\n",
       "      <td>20000</td>\n",
       "      <td>2</td>\n",
       "      <td>2</td>\n",
       "      <td>1</td>\n",
       "      <td>24</td>\n",
       "      <td>2</td>\n",
       "      <td>2</td>\n",
       "      <td>-1</td>\n",
       "      <td>-1</td>\n",
       "      <td>...</td>\n",
       "      <td>0</td>\n",
       "      <td>0</td>\n",
       "      <td>0</td>\n",
       "      <td>0</td>\n",
       "      <td>689</td>\n",
       "      <td>0</td>\n",
       "      <td>0</td>\n",
       "      <td>0</td>\n",
       "      <td>0</td>\n",
       "      <td>1</td>\n",
       "    </tr>\n",
       "    <tr>\n",
       "      <th>1</th>\n",
       "      <td>2</td>\n",
       "      <td>120000</td>\n",
       "      <td>2</td>\n",
       "      <td>2</td>\n",
       "      <td>2</td>\n",
       "      <td>26</td>\n",
       "      <td>-1</td>\n",
       "      <td>2</td>\n",
       "      <td>0</td>\n",
       "      <td>0</td>\n",
       "      <td>...</td>\n",
       "      <td>3272</td>\n",
       "      <td>3455</td>\n",
       "      <td>3261</td>\n",
       "      <td>0</td>\n",
       "      <td>1000</td>\n",
       "      <td>1000</td>\n",
       "      <td>1000</td>\n",
       "      <td>0</td>\n",
       "      <td>2000</td>\n",
       "      <td>1</td>\n",
       "    </tr>\n",
       "    <tr>\n",
       "      <th>2</th>\n",
       "      <td>3</td>\n",
       "      <td>90000</td>\n",
       "      <td>2</td>\n",
       "      <td>2</td>\n",
       "      <td>2</td>\n",
       "      <td>34</td>\n",
       "      <td>0</td>\n",
       "      <td>0</td>\n",
       "      <td>0</td>\n",
       "      <td>0</td>\n",
       "      <td>...</td>\n",
       "      <td>14331</td>\n",
       "      <td>14948</td>\n",
       "      <td>15549</td>\n",
       "      <td>1518</td>\n",
       "      <td>1500</td>\n",
       "      <td>1000</td>\n",
       "      <td>1000</td>\n",
       "      <td>1000</td>\n",
       "      <td>5000</td>\n",
       "      <td>0</td>\n",
       "    </tr>\n",
       "    <tr>\n",
       "      <th>3</th>\n",
       "      <td>4</td>\n",
       "      <td>50000</td>\n",
       "      <td>2</td>\n",
       "      <td>2</td>\n",
       "      <td>1</td>\n",
       "      <td>37</td>\n",
       "      <td>0</td>\n",
       "      <td>0</td>\n",
       "      <td>0</td>\n",
       "      <td>0</td>\n",
       "      <td>...</td>\n",
       "      <td>28314</td>\n",
       "      <td>28959</td>\n",
       "      <td>29547</td>\n",
       "      <td>2000</td>\n",
       "      <td>2019</td>\n",
       "      <td>1200</td>\n",
       "      <td>1100</td>\n",
       "      <td>1069</td>\n",
       "      <td>1000</td>\n",
       "      <td>0</td>\n",
       "    </tr>\n",
       "    <tr>\n",
       "      <th>4</th>\n",
       "      <td>5</td>\n",
       "      <td>50000</td>\n",
       "      <td>1</td>\n",
       "      <td>2</td>\n",
       "      <td>1</td>\n",
       "      <td>57</td>\n",
       "      <td>-1</td>\n",
       "      <td>0</td>\n",
       "      <td>-1</td>\n",
       "      <td>0</td>\n",
       "      <td>...</td>\n",
       "      <td>20940</td>\n",
       "      <td>19146</td>\n",
       "      <td>19131</td>\n",
       "      <td>2000</td>\n",
       "      <td>36681</td>\n",
       "      <td>10000</td>\n",
       "      <td>9000</td>\n",
       "      <td>689</td>\n",
       "      <td>679</td>\n",
       "      <td>0</td>\n",
       "    </tr>\n",
       "  </tbody>\n",
       "</table>\n",
       "<p>5 rows × 25 columns</p>\n",
       "</div>"
      ],
      "text/plain": [
       "   ID  LIMIT_BAL  SEX  EDUCATION  MARRIAGE  AGE  PAY_1  PAY_2  PAY_3  PAY_4  \\\n",
       "0   1      20000    2          2         1   24      2      2     -1     -1   \n",
       "1   2     120000    2          2         2   26     -1      2      0      0   \n",
       "2   3      90000    2          2         2   34      0      0      0      0   \n",
       "3   4      50000    2          2         1   37      0      0      0      0   \n",
       "4   5      50000    1          2         1   57     -1      0     -1      0   \n",
       "\n",
       "   ...  BILL_AMT4  BILL_AMT5  BILL_AMT6  PAY_AMT1  PAY_AMT2  PAY_AMT3  \\\n",
       "0  ...          0          0          0         0       689         0   \n",
       "1  ...       3272       3455       3261         0      1000      1000   \n",
       "2  ...      14331      14948      15549      1518      1500      1000   \n",
       "3  ...      28314      28959      29547      2000      2019      1200   \n",
       "4  ...      20940      19146      19131      2000     36681     10000   \n",
       "\n",
       "   PAY_AMT4  PAY_AMT5  PAY_AMT6  DEFAULT_STATUS  \n",
       "0         0         0         0               1  \n",
       "1      1000         0      2000               1  \n",
       "2      1000      1000      5000               0  \n",
       "3      1100      1069      1000               0  \n",
       "4      9000       689       679               0  \n",
       "\n",
       "[5 rows x 25 columns]"
      ]
     },
     "execution_count": 2,
     "metadata": {},
     "output_type": "execute_result"
    }
   ],
   "source": [
    "#Data cleaned in previous Jupyter-Notebook. Data pulled as CSV here\n",
    "rawData = pd.read_csv('credit_2.csv')\n",
    "rawData.head()"
   ]
  },
  {
   "cell_type": "code",
   "execution_count": 3,
   "id": "57cea18e",
   "metadata": {},
   "outputs": [
    {
     "name": "stdout",
     "output_type": "stream",
     "text": [
      "<class 'pandas.core.frame.DataFrame'>\n",
      "RangeIndex: 30000 entries, 0 to 29999\n",
      "Data columns (total 25 columns):\n",
      " #   Column          Non-Null Count  Dtype\n",
      "---  ------          --------------  -----\n",
      " 0   ID              30000 non-null  int64\n",
      " 1   LIMIT_BAL       30000 non-null  int64\n",
      " 2   SEX             30000 non-null  int64\n",
      " 3   EDUCATION       30000 non-null  int64\n",
      " 4   MARRIAGE        30000 non-null  int64\n",
      " 5   AGE             30000 non-null  int64\n",
      " 6   PAY_1           30000 non-null  int64\n",
      " 7   PAY_2           30000 non-null  int64\n",
      " 8   PAY_3           30000 non-null  int64\n",
      " 9   PAY_4           30000 non-null  int64\n",
      " 10  PAY_5           30000 non-null  int64\n",
      " 11  PAY_6           30000 non-null  int64\n",
      " 12  BILL_AMT1       30000 non-null  int64\n",
      " 13  BILL_AMT2       30000 non-null  int64\n",
      " 14  BILL_AMT3       30000 non-null  int64\n",
      " 15  BILL_AMT4       30000 non-null  int64\n",
      " 16  BILL_AMT5       30000 non-null  int64\n",
      " 17  BILL_AMT6       30000 non-null  int64\n",
      " 18  PAY_AMT1        30000 non-null  int64\n",
      " 19  PAY_AMT2        30000 non-null  int64\n",
      " 20  PAY_AMT3        30000 non-null  int64\n",
      " 21  PAY_AMT4        30000 non-null  int64\n",
      " 22  PAY_AMT5        30000 non-null  int64\n",
      " 23  PAY_AMT6        30000 non-null  int64\n",
      " 24  DEFAULT_STATUS  30000 non-null  int64\n",
      "dtypes: int64(25)\n",
      "memory usage: 5.7 MB\n"
     ]
    }
   ],
   "source": [
    "#Check Data types for all columns in the dataframe\n",
    "rawData.info()"
   ]
  },
  {
   "cell_type": "markdown",
   "id": "3afc5584",
   "metadata": {},
   "source": [
    "# Limit Balance Regression Predictive Modeling"
   ]
  },
  {
   "cell_type": "markdown",
   "id": "6af9e99c",
   "metadata": {},
   "source": [
    "Regression Predictive Modeling is going to be used for here for predicting Limit Balance, which is a continous data column. Based on the EDA, it was found that the features that help with this predict was the PAY columns, as they have the strongest correlation with the Limit Balance column. Bill Amt columns also had strong correlations with Limit Balance."
   ]
  },
  {
   "cell_type": "markdown",
   "id": "c3f9dedb",
   "metadata": {},
   "source": [
    "### PAY & Limit Balance Regression"
   ]
  },
  {
   "cell_type": "code",
   "execution_count": 4,
   "id": "015f6c28",
   "metadata": {},
   "outputs": [
    {
     "name": "stdout",
     "output_type": "stream",
     "text": [
      "Summary of feature sample\n"
     ]
    },
    {
     "data": {
      "text/html": [
       "<div>\n",
       "<style scoped>\n",
       "    .dataframe tbody tr th:only-of-type {\n",
       "        vertical-align: middle;\n",
       "    }\n",
       "\n",
       "    .dataframe tbody tr th {\n",
       "        vertical-align: top;\n",
       "    }\n",
       "\n",
       "    .dataframe thead th {\n",
       "        text-align: right;\n",
       "    }\n",
       "</style>\n",
       "<table border=\"1\" class=\"dataframe\">\n",
       "  <thead>\n",
       "    <tr style=\"text-align: right;\">\n",
       "      <th></th>\n",
       "      <th>PAY_1</th>\n",
       "      <th>PAY_2</th>\n",
       "      <th>PAY_3</th>\n",
       "      <th>PAY_4</th>\n",
       "      <th>PAY_5</th>\n",
       "      <th>PAY_6</th>\n",
       "    </tr>\n",
       "  </thead>\n",
       "  <tbody>\n",
       "    <tr>\n",
       "      <th>0</th>\n",
       "      <td>2</td>\n",
       "      <td>2</td>\n",
       "      <td>-1</td>\n",
       "      <td>-1</td>\n",
       "      <td>-2</td>\n",
       "      <td>-2</td>\n",
       "    </tr>\n",
       "    <tr>\n",
       "      <th>1</th>\n",
       "      <td>-1</td>\n",
       "      <td>2</td>\n",
       "      <td>0</td>\n",
       "      <td>0</td>\n",
       "      <td>0</td>\n",
       "      <td>2</td>\n",
       "    </tr>\n",
       "    <tr>\n",
       "      <th>2</th>\n",
       "      <td>0</td>\n",
       "      <td>0</td>\n",
       "      <td>0</td>\n",
       "      <td>0</td>\n",
       "      <td>0</td>\n",
       "      <td>0</td>\n",
       "    </tr>\n",
       "    <tr>\n",
       "      <th>3</th>\n",
       "      <td>0</td>\n",
       "      <td>0</td>\n",
       "      <td>0</td>\n",
       "      <td>0</td>\n",
       "      <td>0</td>\n",
       "      <td>0</td>\n",
       "    </tr>\n",
       "    <tr>\n",
       "      <th>4</th>\n",
       "      <td>-1</td>\n",
       "      <td>0</td>\n",
       "      <td>-1</td>\n",
       "      <td>0</td>\n",
       "      <td>0</td>\n",
       "      <td>0</td>\n",
       "    </tr>\n",
       "  </tbody>\n",
       "</table>\n",
       "</div>"
      ],
      "text/plain": [
       "   PAY_1  PAY_2  PAY_3  PAY_4  PAY_5  PAY_6\n",
       "0      2      2     -1     -1     -2     -2\n",
       "1     -1      2      0      0      0      2\n",
       "2      0      0      0      0      0      0\n",
       "3      0      0      0      0      0      0\n",
       "4     -1      0     -1      0      0      0"
      ]
     },
     "execution_count": 4,
     "metadata": {},
     "output_type": "execute_result"
    }
   ],
   "source": [
    "#Selecting Features for Prediction Model\n",
    "#Using PAY Columns first\n",
    "X = rawData[['PAY_1', 'PAY_2', 'PAY_3', 'PAY_4', 'PAY_5', 'PAY_6']]\n",
    "print('Summary of feature sample')\n",
    "X.head()"
   ]
  },
  {
   "cell_type": "code",
   "execution_count": 5,
   "id": "690e5166",
   "metadata": {},
   "outputs": [],
   "source": [
    "#Setting Limit Balance as Dependent Variable\n",
    "y = rawData['LIMIT_BAL']"
   ]
  },
  {
   "cell_type": "markdown",
   "id": "df616cdd",
   "metadata": {},
   "source": [
    "#### Cross Validation for Choosing the Right Model"
   ]
  },
  {
   "cell_type": "code",
   "execution_count": 6,
   "id": "c7b28d6d",
   "metadata": {},
   "outputs": [
    {
     "name": "stdout",
     "output_type": "stream",
     "text": [
      "[0.09160873 0.1131427  0.10113375]\n"
     ]
    }
   ],
   "source": [
    "#Checking and Practicing Cross Val Score Check for Linear Regression Model\n",
    "model = LinearRegression(n_jobs=10)\n",
    "print(cross_val_score(model, X, y, cv=3)) "
   ]
  },
  {
   "cell_type": "code",
   "execution_count": 7,
   "id": "e3f1d112",
   "metadata": {},
   "outputs": [],
   "source": [
    "#Setting Up Cross Val Check for Multiple Regression Algorithm's to Find Which Estimator Performs Best\n",
    "algosClass = []\n",
    "algosClass.append(('Random Forest Regressor',RandomForestRegressor()))\n",
    "algosClass.append(('Linear Regression',LinearRegression()))\n",
    "algosClass.append(('Support Vector Regression',SVR()))"
   ]
  },
  {
   "cell_type": "code",
   "execution_count": 8,
   "id": "fb0e0efd",
   "metadata": {},
   "outputs": [],
   "source": [
    "#regression\n",
    "results = []\n",
    "names = []\n",
    "for name, model in algosClass:\n",
    "    result = cross_val_score(model, X,y, cv=3, scoring='r2')\n",
    "    names.append(name)\n",
    "    results.append(result)"
   ]
  },
  {
   "cell_type": "code",
   "execution_count": 9,
   "id": "61bfc49f",
   "metadata": {},
   "outputs": [
    {
     "name": "stdout",
     "output_type": "stream",
     "text": [
      "Random Forest Regressor 0.1051531496353189\n",
      "Linear Regression 0.101961724682885\n",
      "Support Vector Regression -0.050732632640690355\n"
     ]
    }
   ],
   "source": [
    "for i in range(len(names)):\n",
    "    print(names[i],results[i].mean())"
   ]
  },
  {
   "cell_type": "markdown",
   "id": "9020e403",
   "metadata": {},
   "source": [
    "#### Train/Test Split Data"
   ]
  },
  {
   "cell_type": "code",
   "execution_count": 10,
   "id": "a5938147",
   "metadata": {},
   "outputs": [],
   "source": [
    "#Train/Test Split\n",
    "X_train, X_test, y_train, y_test = train_test_split(X, y, test_size = .30, random_state = 123)"
   ]
  },
  {
   "cell_type": "code",
   "execution_count": 11,
   "id": "02722893",
   "metadata": {},
   "outputs": [],
   "source": [
    "#Modeling (Classification), Choosing Random Forest Regressor Since It Has Best Cross Val Score\n",
    "algo = RandomForestRegressor(max_depth=10)\n",
    "model = algo.fit(X_train,y_train)"
   ]
  },
  {
   "cell_type": "markdown",
   "id": "3a76d629",
   "metadata": {},
   "source": [
    "#### Predictions"
   ]
  },
  {
   "cell_type": "code",
   "execution_count": 12,
   "id": "25ecbc77",
   "metadata": {},
   "outputs": [
    {
     "name": "stdout",
     "output_type": "stream",
     "text": [
      "R Squared: 0.119\n",
      "RMSE: 120763.445\n"
     ]
    }
   ],
   "source": [
    "#Make Predictions for Limit Bal Dependent Variable with PAY Columns\n",
    "predictions = model.predict(X_test)\n",
    "predRsquared = r2_score(y_test,predictions)\n",
    "rmse = sqrt(mean_squared_error(y_test, predictions))\n",
    "print('R Squared: %.3f' % predRsquared)\n",
    "print('RMSE: %.3f' % rmse)"
   ]
  },
  {
   "cell_type": "code",
   "execution_count": 13,
   "id": "a98c2e1b",
   "metadata": {
    "scrolled": true
   },
   "outputs": [
    {
     "data": {
      "image/png": "[encoded data removed]",
      "text/plain": [
       "<Figure size 432x288 with 1 Axes>"
      ]
     },
     "metadata": {
      "needs_background": "light"
     },
     "output_type": "display_data"
    }
   ],
   "source": [
    "#Plotting the Known Values in the Test Set (Y_test) and the Predictions Made By the Model\n",
    "plt.scatter(y_test, predictions, alpha = 0.5)\n",
    "plt.xlabel('Ground Truth')\n",
    "plt.ylabel('Predictions')\n",
    "plt.show();"
   ]
  },
  {
   "cell_type": "markdown",
   "id": "a6d3b988",
   "metadata": {},
   "source": [
    "### BILL_AMT & Limit Balance Regression"
   ]
  },
  {
   "cell_type": "code",
   "execution_count": 14,
   "id": "ff035368",
   "metadata": {},
   "outputs": [
    {
     "name": "stdout",
     "output_type": "stream",
     "text": [
      "Summary of feature sample\n"
     ]
    },
    {
     "data": {
      "text/html": [
       "<div>\n",
       "<style scoped>\n",
       "    .dataframe tbody tr th:only-of-type {\n",
       "        vertical-align: middle;\n",
       "    }\n",
       "\n",
       "    .dataframe tbody tr th {\n",
       "        vertical-align: top;\n",
       "    }\n",
       "\n",
       "    .dataframe thead th {\n",
       "        text-align: right;\n",
       "    }\n",
       "</style>\n",
       "<table border=\"1\" class=\"dataframe\">\n",
       "  <thead>\n",
       "    <tr style=\"text-align: right;\">\n",
       "      <th></th>\n",
       "      <th>BILL_AMT1</th>\n",
       "      <th>BILL_AMT2</th>\n",
       "      <th>BILL_AMT3</th>\n",
       "      <th>BILL_AMT4</th>\n",
       "      <th>BILL_AMT5</th>\n",
       "      <th>BILL_AMT6</th>\n",
       "    </tr>\n",
       "  </thead>\n",
       "  <tbody>\n",
       "    <tr>\n",
       "      <th>0</th>\n",
       "      <td>3913</td>\n",
       "      <td>3102</td>\n",
       "      <td>689</td>\n",
       "      <td>0</td>\n",
       "      <td>0</td>\n",
       "      <td>0</td>\n",
       "    </tr>\n",
       "    <tr>\n",
       "      <th>1</th>\n",
       "      <td>2682</td>\n",
       "      <td>1725</td>\n",
       "      <td>2682</td>\n",
       "      <td>3272</td>\n",
       "      <td>3455</td>\n",
       "      <td>3261</td>\n",
       "    </tr>\n",
       "    <tr>\n",
       "      <th>2</th>\n",
       "      <td>29239</td>\n",
       "      <td>14027</td>\n",
       "      <td>13559</td>\n",
       "      <td>14331</td>\n",
       "      <td>14948</td>\n",
       "      <td>15549</td>\n",
       "    </tr>\n",
       "    <tr>\n",
       "      <th>3</th>\n",
       "      <td>46990</td>\n",
       "      <td>48233</td>\n",
       "      <td>49291</td>\n",
       "      <td>28314</td>\n",
       "      <td>28959</td>\n",
       "      <td>29547</td>\n",
       "    </tr>\n",
       "    <tr>\n",
       "      <th>4</th>\n",
       "      <td>8617</td>\n",
       "      <td>5670</td>\n",
       "      <td>35835</td>\n",
       "      <td>20940</td>\n",
       "      <td>19146</td>\n",
       "      <td>19131</td>\n",
       "    </tr>\n",
       "  </tbody>\n",
       "</table>\n",
       "</div>"
      ],
      "text/plain": [
       "   BILL_AMT1  BILL_AMT2  BILL_AMT3  BILL_AMT4  BILL_AMT5  BILL_AMT6\n",
       "0       3913       3102        689          0          0          0\n",
       "1       2682       1725       2682       3272       3455       3261\n",
       "2      29239      14027      13559      14331      14948      15549\n",
       "3      46990      48233      49291      28314      28959      29547\n",
       "4       8617       5670      35835      20940      19146      19131"
      ]
     },
     "execution_count": 14,
     "metadata": {},
     "output_type": "execute_result"
    }
   ],
   "source": [
    "#Selecting Features for Prediction Model\n",
    "#Using BILL_AMT Columns\n",
    "X = rawData[['BILL_AMT1', 'BILL_AMT2', 'BILL_AMT3', 'BILL_AMT4', 'BILL_AMT5', 'BILL_AMT6']]\n",
    "print('Summary of feature sample')\n",
    "X.head()"
   ]
  },
  {
   "cell_type": "code",
   "execution_count": 15,
   "id": "6de67641",
   "metadata": {},
   "outputs": [],
   "source": [
    "#dependent variable with Limit Balance\n",
    "y = rawData['LIMIT_BAL']"
   ]
  },
  {
   "cell_type": "markdown",
   "id": "8e44ed77",
   "metadata": {},
   "source": [
    "#### Cross Validation for Choosing the Right Model"
   ]
  },
  {
   "cell_type": "code",
   "execution_count": 16,
   "id": "6e4ae60c",
   "metadata": {},
   "outputs": [
    {
     "name": "stdout",
     "output_type": "stream",
     "text": [
      "[0.08816504 0.09141161 0.08768244]\n"
     ]
    }
   ],
   "source": [
    "#Checking and Practicing Cross Val Score Check for Linear Regression Model\n",
    "model = LinearRegression(n_jobs=10)\n",
    "print(cross_val_score(model, X, y, cv=3)) "
   ]
  },
  {
   "cell_type": "code",
   "execution_count": 17,
   "id": "2903a804",
   "metadata": {},
   "outputs": [],
   "source": [
    "#Setting Up Cross Val Check for Multiple Regression Algorithm's to Find Which Estimator Performs Best\n",
    "algosClass = []\n",
    "algosClass.append(('Random Forest Regressor',RandomForestRegressor()))\n",
    "algosClass.append(('Linear Regression',LinearRegression()))\n",
    "algosClass.append(('Support Vector Regression',SVR()))"
   ]
  },
  {
   "cell_type": "code",
   "execution_count": 18,
   "id": "e9f2a67b",
   "metadata": {},
   "outputs": [],
   "source": [
    "#regression\n",
    "results = []\n",
    "names = []\n",
    "for name, model in algosClass:\n",
    "    result = cross_val_score(model, X,y, cv=3, scoring='r2')\n",
    "    names.append(name)\n",
    "    results.append(result)"
   ]
  },
  {
   "cell_type": "code",
   "execution_count": 19,
   "id": "c8c92912",
   "metadata": {},
   "outputs": [
    {
     "name": "stdout",
     "output_type": "stream",
     "text": [
      "Random Forest Regressor 0.3273567503044775\n",
      "Linear Regression 0.08908636572117239\n",
      "Support Vector Regression -0.05056783450893102\n"
     ]
    }
   ],
   "source": [
    "for i in range(len(names)):\n",
    "    print(names[i],results[i].mean())"
   ]
  },
  {
   "cell_type": "markdown",
   "id": "839975ac",
   "metadata": {},
   "source": [
    "#### Train/Test Split Data"
   ]
  },
  {
   "cell_type": "code",
   "execution_count": 20,
   "id": "9fadc150",
   "metadata": {},
   "outputs": [],
   "source": [
    "#Train/Test Split\n",
    "X_train, X_test, y_train, y_test = train_test_split(X, y, test_size = .30, random_state = 123)"
   ]
  },
  {
   "cell_type": "code",
   "execution_count": 21,
   "id": "a065d96a",
   "metadata": {},
   "outputs": [],
   "source": [
    "#Modeling (Classification), Choosing Random Forest Regressor Since It Has Best Cross Val Score\n",
    "algo = RandomForestRegressor(max_depth=10)\n",
    "model = algo.fit(X_train,y_train)"
   ]
  },
  {
   "cell_type": "markdown",
   "id": "b382004e",
   "metadata": {},
   "source": [
    "#### Predictions"
   ]
  },
  {
   "cell_type": "code",
   "execution_count": 22,
   "id": "77b2faca",
   "metadata": {},
   "outputs": [
    {
     "name": "stdout",
     "output_type": "stream",
     "text": [
      "R Squared: 0.306\n",
      "RMSE: 107177.677\n"
     ]
    }
   ],
   "source": [
    "#Make Predictions for Limit Bal Dependent Variable with BILL_AMT Columns\n",
    "predictions = model.predict(X_test)\n",
    "predRsquared = r2_score(y_test,predictions)\n",
    "rmse = sqrt(mean_squared_error(y_test, predictions))\n",
    "print('R Squared: %.3f' % predRsquared)\n",
    "print('RMSE: %.3f' % rmse)"
   ]
  },
  {
   "cell_type": "code",
   "execution_count": 23,
   "id": "a8420711",
   "metadata": {
    "scrolled": true
   },
   "outputs": [
    {
     "data": {
      "image/png": "[encoded data removed]",
      "text/plain": [
       "<Figure size 432x288 with 1 Axes>"
      ]
     },
     "metadata": {
      "needs_background": "light"
     },
     "output_type": "display_data"
    }
   ],
   "source": [
    "#Plotting the Known Values in the Test Set (Y_test) and the Predictions Made By the Model\n",
    "plt.scatter(y_test, predictions, alpha = 0.5)\n",
    "plt.xlabel('Ground Truth')\n",
    "plt.ylabel('Predictions')\n",
    "plt.show();"
   ]
  },
  {
   "cell_type": "markdown",
   "id": "73ea13e0",
   "metadata": {},
   "source": [
    "### LIMIT_BAL Regression Predictive Modeling Results"
   ]
  },
  {
   "cell_type": "markdown",
   "id": "e1e30735",
   "metadata": {},
   "source": [
    "- R Squared is a measure on how well the linear regression model fits the dataset. From a range of 0 to 1, a value of R^2 that is close to 0 indicates that it is not a good predictor variable. Using PAY columns as the features in this model results with an R^2 of 0.119, while using BILL_AMT columns as the features in this model results with an R^2 of 0.305. Neither of these are very large R^2 values.\n",
    "- Root Mean Square Error (RMSE) is a technique that informs us the average distance between the predicted values from the model and the dependent variable values in the dataset. The lower the RMSE, the better the prediction model fit is. When using the PAY Columns as the features in the model, the RMSE value is . When using the BILL_AMT columns as the features in this model, the RMSE value is . Despite  being lower than  , the RMSE values are still very high and do not fit the regression model very well.\n",
    "- Both R^2 and RMSE values show that the regression model is not a good fit for predicting the LIMIT_BAL with the data provided. I will try an alternative by discretizing the LIMIT_BAL column into buckets. After discretizing the dependent variable, I will use the classification model and algorithms and check if this is a better way of predicting LIMIT_BAL."
   ]
  },
  {
   "cell_type": "markdown",
   "id": "0d942027",
   "metadata": {},
   "source": [
    "# Limit Balance Classification Predictive Modeling"
   ]
  },
  {
   "cell_type": "markdown",
   "id": "0c67c33d",
   "metadata": {},
   "source": [
    "### Discretizing the Limit Balance for Classification Predictive Modeling"
   ]
  },
  {
   "cell_type": "code",
   "execution_count": 24,
   "id": "365a8330",
   "metadata": {
    "scrolled": true
   },
   "outputs": [
    {
     "data": {
      "text/html": [
       "<div>\n",
       "<style scoped>\n",
       "    .dataframe tbody tr th:only-of-type {\n",
       "        vertical-align: middle;\n",
       "    }\n",
       "\n",
       "    .dataframe tbody tr th {\n",
       "        vertical-align: top;\n",
       "    }\n",
       "\n",
       "    .dataframe thead th {\n",
       "        text-align: right;\n",
       "    }\n",
       "</style>\n",
       "<table border=\"1\" class=\"dataframe\">\n",
       "  <thead>\n",
       "    <tr style=\"text-align: right;\">\n",
       "      <th></th>\n",
       "      <th>ID</th>\n",
       "      <th>SEX</th>\n",
       "      <th>EDUCATION</th>\n",
       "      <th>MARRIAGE</th>\n",
       "      <th>AGE</th>\n",
       "      <th>PAY_1</th>\n",
       "      <th>PAY_2</th>\n",
       "      <th>PAY_3</th>\n",
       "      <th>PAY_4</th>\n",
       "      <th>PAY_5</th>\n",
       "      <th>...</th>\n",
       "      <th>BILL_AMT5</th>\n",
       "      <th>BILL_AMT6</th>\n",
       "      <th>PAY_AMT1</th>\n",
       "      <th>PAY_AMT2</th>\n",
       "      <th>PAY_AMT3</th>\n",
       "      <th>PAY_AMT4</th>\n",
       "      <th>PAY_AMT5</th>\n",
       "      <th>PAY_AMT6</th>\n",
       "      <th>DEFAULT_STATUS</th>\n",
       "      <th>LIM_BAL_CUT</th>\n",
       "    </tr>\n",
       "  </thead>\n",
       "  <tbody>\n",
       "    <tr>\n",
       "      <th>0</th>\n",
       "      <td>1</td>\n",
       "      <td>2</td>\n",
       "      <td>2</td>\n",
       "      <td>1</td>\n",
       "      <td>24</td>\n",
       "      <td>2</td>\n",
       "      <td>2</td>\n",
       "      <td>-1</td>\n",
       "      <td>-1</td>\n",
       "      <td>-2</td>\n",
       "      <td>...</td>\n",
       "      <td>0</td>\n",
       "      <td>0</td>\n",
       "      <td>0</td>\n",
       "      <td>689</td>\n",
       "      <td>0</td>\n",
       "      <td>0</td>\n",
       "      <td>0</td>\n",
       "      <td>0</td>\n",
       "      <td>1</td>\n",
       "      <td>0-50K</td>\n",
       "    </tr>\n",
       "    <tr>\n",
       "      <th>1</th>\n",
       "      <td>2</td>\n",
       "      <td>2</td>\n",
       "      <td>2</td>\n",
       "      <td>2</td>\n",
       "      <td>26</td>\n",
       "      <td>-1</td>\n",
       "      <td>2</td>\n",
       "      <td>0</td>\n",
       "      <td>0</td>\n",
       "      <td>0</td>\n",
       "      <td>...</td>\n",
       "      <td>3455</td>\n",
       "      <td>3261</td>\n",
       "      <td>0</td>\n",
       "      <td>1000</td>\n",
       "      <td>1000</td>\n",
       "      <td>1000</td>\n",
       "      <td>0</td>\n",
       "      <td>2000</td>\n",
       "      <td>1</td>\n",
       "      <td>100K-200K</td>\n",
       "    </tr>\n",
       "    <tr>\n",
       "      <th>2</th>\n",
       "      <td>3</td>\n",
       "      <td>2</td>\n",
       "      <td>2</td>\n",
       "      <td>2</td>\n",
       "      <td>34</td>\n",
       "      <td>0</td>\n",
       "      <td>0</td>\n",
       "      <td>0</td>\n",
       "      <td>0</td>\n",
       "      <td>0</td>\n",
       "      <td>...</td>\n",
       "      <td>14948</td>\n",
       "      <td>15549</td>\n",
       "      <td>1518</td>\n",
       "      <td>1500</td>\n",
       "      <td>1000</td>\n",
       "      <td>1000</td>\n",
       "      <td>1000</td>\n",
       "      <td>5000</td>\n",
       "      <td>0</td>\n",
       "      <td>50K-100K</td>\n",
       "    </tr>\n",
       "    <tr>\n",
       "      <th>3</th>\n",
       "      <td>4</td>\n",
       "      <td>2</td>\n",
       "      <td>2</td>\n",
       "      <td>1</td>\n",
       "      <td>37</td>\n",
       "      <td>0</td>\n",
       "      <td>0</td>\n",
       "      <td>0</td>\n",
       "      <td>0</td>\n",
       "      <td>0</td>\n",
       "      <td>...</td>\n",
       "      <td>28959</td>\n",
       "      <td>29547</td>\n",
       "      <td>2000</td>\n",
       "      <td>2019</td>\n",
       "      <td>1200</td>\n",
       "      <td>1100</td>\n",
       "      <td>1069</td>\n",
       "      <td>1000</td>\n",
       "      <td>0</td>\n",
       "      <td>0-50K</td>\n",
       "    </tr>\n",
       "    <tr>\n",
       "      <th>4</th>\n",
       "      <td>5</td>\n",
       "      <td>1</td>\n",
       "      <td>2</td>\n",
       "      <td>1</td>\n",
       "      <td>57</td>\n",
       "      <td>-1</td>\n",
       "      <td>0</td>\n",
       "      <td>-1</td>\n",
       "      <td>0</td>\n",
       "      <td>0</td>\n",
       "      <td>...</td>\n",
       "      <td>19146</td>\n",
       "      <td>19131</td>\n",
       "      <td>2000</td>\n",
       "      <td>36681</td>\n",
       "      <td>10000</td>\n",
       "      <td>9000</td>\n",
       "      <td>689</td>\n",
       "      <td>679</td>\n",
       "      <td>0</td>\n",
       "      <td>0-50K</td>\n",
       "    </tr>\n",
       "    <tr>\n",
       "      <th>...</th>\n",
       "      <td>...</td>\n",
       "      <td>...</td>\n",
       "      <td>...</td>\n",
       "      <td>...</td>\n",
       "      <td>...</td>\n",
       "      <td>...</td>\n",
       "      <td>...</td>\n",
       "      <td>...</td>\n",
       "      <td>...</td>\n",
       "      <td>...</td>\n",
       "      <td>...</td>\n",
       "      <td>...</td>\n",
       "      <td>...</td>\n",
       "      <td>...</td>\n",
       "      <td>...</td>\n",
       "      <td>...</td>\n",
       "      <td>...</td>\n",
       "      <td>...</td>\n",
       "      <td>...</td>\n",
       "      <td>...</td>\n",
       "      <td>...</td>\n",
       "    </tr>\n",
       "    <tr>\n",
       "      <th>29995</th>\n",
       "      <td>29996</td>\n",
       "      <td>1</td>\n",
       "      <td>3</td>\n",
       "      <td>1</td>\n",
       "      <td>39</td>\n",
       "      <td>0</td>\n",
       "      <td>0</td>\n",
       "      <td>0</td>\n",
       "      <td>0</td>\n",
       "      <td>0</td>\n",
       "      <td>...</td>\n",
       "      <td>31237</td>\n",
       "      <td>15980</td>\n",
       "      <td>8500</td>\n",
       "      <td>20000</td>\n",
       "      <td>5003</td>\n",
       "      <td>3047</td>\n",
       "      <td>5000</td>\n",
       "      <td>1000</td>\n",
       "      <td>0</td>\n",
       "      <td>200K-300K</td>\n",
       "    </tr>\n",
       "    <tr>\n",
       "      <th>29996</th>\n",
       "      <td>29997</td>\n",
       "      <td>1</td>\n",
       "      <td>3</td>\n",
       "      <td>2</td>\n",
       "      <td>43</td>\n",
       "      <td>-1</td>\n",
       "      <td>-1</td>\n",
       "      <td>-1</td>\n",
       "      <td>-1</td>\n",
       "      <td>0</td>\n",
       "      <td>...</td>\n",
       "      <td>5190</td>\n",
       "      <td>0</td>\n",
       "      <td>1837</td>\n",
       "      <td>3526</td>\n",
       "      <td>8998</td>\n",
       "      <td>129</td>\n",
       "      <td>0</td>\n",
       "      <td>0</td>\n",
       "      <td>0</td>\n",
       "      <td>100K-200K</td>\n",
       "    </tr>\n",
       "    <tr>\n",
       "      <th>29997</th>\n",
       "      <td>29998</td>\n",
       "      <td>1</td>\n",
       "      <td>2</td>\n",
       "      <td>2</td>\n",
       "      <td>37</td>\n",
       "      <td>4</td>\n",
       "      <td>3</td>\n",
       "      <td>2</td>\n",
       "      <td>-1</td>\n",
       "      <td>0</td>\n",
       "      <td>...</td>\n",
       "      <td>20582</td>\n",
       "      <td>19357</td>\n",
       "      <td>0</td>\n",
       "      <td>0</td>\n",
       "      <td>22000</td>\n",
       "      <td>4200</td>\n",
       "      <td>2000</td>\n",
       "      <td>3100</td>\n",
       "      <td>1</td>\n",
       "      <td>0-50K</td>\n",
       "    </tr>\n",
       "    <tr>\n",
       "      <th>29998</th>\n",
       "      <td>29999</td>\n",
       "      <td>1</td>\n",
       "      <td>3</td>\n",
       "      <td>1</td>\n",
       "      <td>41</td>\n",
       "      <td>1</td>\n",
       "      <td>-1</td>\n",
       "      <td>0</td>\n",
       "      <td>0</td>\n",
       "      <td>0</td>\n",
       "      <td>...</td>\n",
       "      <td>11855</td>\n",
       "      <td>48944</td>\n",
       "      <td>85900</td>\n",
       "      <td>3409</td>\n",
       "      <td>1178</td>\n",
       "      <td>1926</td>\n",
       "      <td>52964</td>\n",
       "      <td>1804</td>\n",
       "      <td>1</td>\n",
       "      <td>50K-100K</td>\n",
       "    </tr>\n",
       "    <tr>\n",
       "      <th>29999</th>\n",
       "      <td>30000</td>\n",
       "      <td>1</td>\n",
       "      <td>2</td>\n",
       "      <td>1</td>\n",
       "      <td>46</td>\n",
       "      <td>0</td>\n",
       "      <td>0</td>\n",
       "      <td>0</td>\n",
       "      <td>0</td>\n",
       "      <td>0</td>\n",
       "      <td>...</td>\n",
       "      <td>32428</td>\n",
       "      <td>15313</td>\n",
       "      <td>2078</td>\n",
       "      <td>1800</td>\n",
       "      <td>1430</td>\n",
       "      <td>1000</td>\n",
       "      <td>1000</td>\n",
       "      <td>1000</td>\n",
       "      <td>1</td>\n",
       "      <td>0-50K</td>\n",
       "    </tr>\n",
       "  </tbody>\n",
       "</table>\n",
       "<p>30000 rows × 25 columns</p>\n",
       "</div>"
      ],
      "text/plain": [
       "          ID  SEX  EDUCATION  MARRIAGE  AGE  PAY_1  PAY_2  PAY_3  PAY_4  \\\n",
       "0          1    2          2         1   24      2      2     -1     -1   \n",
       "1          2    2          2         2   26     -1      2      0      0   \n",
       "2          3    2          2         2   34      0      0      0      0   \n",
       "3          4    2          2         1   37      0      0      0      0   \n",
       "4          5    1          2         1   57     -1      0     -1      0   \n",
       "...      ...  ...        ...       ...  ...    ...    ...    ...    ...   \n",
       "29995  29996    1          3         1   39      0      0      0      0   \n",
       "29996  29997    1          3         2   43     -1     -1     -1     -1   \n",
       "29997  29998    1          2         2   37      4      3      2     -1   \n",
       "29998  29999    1          3         1   41      1     -1      0      0   \n",
       "29999  30000    1          2         1   46      0      0      0      0   \n",
       "\n",
       "       PAY_5  ...  BILL_AMT5  BILL_AMT6  PAY_AMT1  PAY_AMT2  PAY_AMT3  \\\n",
       "0         -2  ...          0          0         0       689         0   \n",
       "1          0  ...       3455       3261         0      1000      1000   \n",
       "2          0  ...      14948      15549      1518      1500      1000   \n",
       "3          0  ...      28959      29547      2000      2019      1200   \n",
       "4          0  ...      19146      19131      2000     36681     10000   \n",
       "...      ...  ...        ...        ...       ...       ...       ...   \n",
       "29995      0  ...      31237      15980      8500     20000      5003   \n",
       "29996      0  ...       5190          0      1837      3526      8998   \n",
       "29997      0  ...      20582      19357         0         0     22000   \n",
       "29998      0  ...      11855      48944     85900      3409      1178   \n",
       "29999      0  ...      32428      15313      2078      1800      1430   \n",
       "\n",
       "       PAY_AMT4  PAY_AMT5  PAY_AMT6  DEFAULT_STATUS  LIM_BAL_CUT  \n",
       "0             0         0         0               1        0-50K  \n",
       "1          1000         0      2000               1    100K-200K  \n",
       "2          1000      1000      5000               0     50K-100K  \n",
       "3          1100      1069      1000               0        0-50K  \n",
       "4          9000       689       679               0        0-50K  \n",
       "...         ...       ...       ...             ...          ...  \n",
       "29995      3047      5000      1000               0    200K-300K  \n",
       "29996       129         0         0               0    100K-200K  \n",
       "29997      4200      2000      3100               1        0-50K  \n",
       "29998      1926     52964      1804               1     50K-100K  \n",
       "29999      1000      1000      1000               1        0-50K  \n",
       "\n",
       "[30000 rows x 25 columns]"
      ]
     },
     "execution_count": 24,
     "metadata": {},
     "output_type": "execute_result"
    }
   ],
   "source": [
    "#Discretizing the Dependent Variable, LIMIT_BAL\n",
    "#Only 3 Rows with Values above 800K, so putting this under the 700K+ Bin \n",
    "cut_labels = ['0-50K', '50K-100K', '100K-200K', '200K-300K', '300K-400K', '400K-500K', \n",
    "              '500K-600K', '600K-700K', '700K+']\n",
    "cut_bins = (0, 50000, 100000, 200000, 300000, 400000, 500000, 600000, 700000, 1000000)\n",
    "LimBalCutData = rawData.copy()\n",
    "LimBalCutData['LIM_BAL_CUT'] = pd.cut(rawData['LIMIT_BAL'], bins=cut_bins, labels=cut_labels)\n",
    "LimBalCutData.drop('LIMIT_BAL', axis=1, inplace=True)\n",
    "LimBalCutData"
   ]
  },
  {
   "cell_type": "code",
   "execution_count": 25,
   "id": "5c5ba2bb",
   "metadata": {},
   "outputs": [
    {
     "name": "stdout",
     "output_type": "stream",
     "text": [
      "<class 'pandas.core.frame.DataFrame'>\n",
      "RangeIndex: 30000 entries, 0 to 29999\n",
      "Data columns (total 25 columns):\n",
      " #   Column          Non-Null Count  Dtype   \n",
      "---  ------          --------------  -----   \n",
      " 0   ID              30000 non-null  int64   \n",
      " 1   SEX             30000 non-null  int64   \n",
      " 2   EDUCATION       30000 non-null  int64   \n",
      " 3   MARRIAGE        30000 non-null  int64   \n",
      " 4   AGE             30000 non-null  int64   \n",
      " 5   PAY_1           30000 non-null  int64   \n",
      " 6   PAY_2           30000 non-null  int64   \n",
      " 7   PAY_3           30000 non-null  int64   \n",
      " 8   PAY_4           30000 non-null  int64   \n",
      " 9   PAY_5           30000 non-null  int64   \n",
      " 10  PAY_6           30000 non-null  int64   \n",
      " 11  BILL_AMT1       30000 non-null  int64   \n",
      " 12  BILL_AMT2       30000 non-null  int64   \n",
      " 13  BILL_AMT3       30000 non-null  int64   \n",
      " 14  BILL_AMT4       30000 non-null  int64   \n",
      " 15  BILL_AMT5       30000 non-null  int64   \n",
      " 16  BILL_AMT6       30000 non-null  int64   \n",
      " 17  PAY_AMT1        30000 non-null  int64   \n",
      " 18  PAY_AMT2        30000 non-null  int64   \n",
      " 19  PAY_AMT3        30000 non-null  int64   \n",
      " 20  PAY_AMT4        30000 non-null  int64   \n",
      " 21  PAY_AMT5        30000 non-null  int64   \n",
      " 22  PAY_AMT6        30000 non-null  int64   \n",
      " 23  DEFAULT_STATUS  30000 non-null  int64   \n",
      " 24  LIM_BAL_CUT     30000 non-null  category\n",
      "dtypes: category(1), int64(24)\n",
      "memory usage: 5.5 MB\n"
     ]
    }
   ],
   "source": [
    "#Checking Data Types for all Columns in New Dataframe\n",
    "LimBalCutData.info()"
   ]
  },
  {
   "cell_type": "markdown",
   "id": "6ff0eb94",
   "metadata": {},
   "source": [
    "### PAY Features and Discretized LIMIT_BAL Dependent Variable"
   ]
  },
  {
   "cell_type": "code",
   "execution_count": 26,
   "id": "3cd910df",
   "metadata": {},
   "outputs": [
    {
     "name": "stdout",
     "output_type": "stream",
     "text": [
      "Summary of feature sample\n"
     ]
    },
    {
     "data": {
      "text/html": [
       "<div>\n",
       "<style scoped>\n",
       "    .dataframe tbody tr th:only-of-type {\n",
       "        vertical-align: middle;\n",
       "    }\n",
       "\n",
       "    .dataframe tbody tr th {\n",
       "        vertical-align: top;\n",
       "    }\n",
       "\n",
       "    .dataframe thead th {\n",
       "        text-align: right;\n",
       "    }\n",
       "</style>\n",
       "<table border=\"1\" class=\"dataframe\">\n",
       "  <thead>\n",
       "    <tr style=\"text-align: right;\">\n",
       "      <th></th>\n",
       "      <th>PAY_1</th>\n",
       "      <th>PAY_2</th>\n",
       "      <th>PAY_3</th>\n",
       "      <th>PAY_4</th>\n",
       "      <th>PAY_5</th>\n",
       "      <th>PAY_6</th>\n",
       "    </tr>\n",
       "  </thead>\n",
       "  <tbody>\n",
       "    <tr>\n",
       "      <th>0</th>\n",
       "      <td>2</td>\n",
       "      <td>2</td>\n",
       "      <td>-1</td>\n",
       "      <td>-1</td>\n",
       "      <td>-2</td>\n",
       "      <td>-2</td>\n",
       "    </tr>\n",
       "    <tr>\n",
       "      <th>1</th>\n",
       "      <td>-1</td>\n",
       "      <td>2</td>\n",
       "      <td>0</td>\n",
       "      <td>0</td>\n",
       "      <td>0</td>\n",
       "      <td>2</td>\n",
       "    </tr>\n",
       "    <tr>\n",
       "      <th>2</th>\n",
       "      <td>0</td>\n",
       "      <td>0</td>\n",
       "      <td>0</td>\n",
       "      <td>0</td>\n",
       "      <td>0</td>\n",
       "      <td>0</td>\n",
       "    </tr>\n",
       "    <tr>\n",
       "      <th>3</th>\n",
       "      <td>0</td>\n",
       "      <td>0</td>\n",
       "      <td>0</td>\n",
       "      <td>0</td>\n",
       "      <td>0</td>\n",
       "      <td>0</td>\n",
       "    </tr>\n",
       "    <tr>\n",
       "      <th>4</th>\n",
       "      <td>-1</td>\n",
       "      <td>0</td>\n",
       "      <td>-1</td>\n",
       "      <td>0</td>\n",
       "      <td>0</td>\n",
       "      <td>0</td>\n",
       "    </tr>\n",
       "  </tbody>\n",
       "</table>\n",
       "</div>"
      ],
      "text/plain": [
       "   PAY_1  PAY_2  PAY_3  PAY_4  PAY_5  PAY_6\n",
       "0      2      2     -1     -1     -2     -2\n",
       "1     -1      2      0      0      0      2\n",
       "2      0      0      0      0      0      0\n",
       "3      0      0      0      0      0      0\n",
       "4     -1      0     -1      0      0      0"
      ]
     },
     "execution_count": 26,
     "metadata": {},
     "output_type": "execute_result"
    }
   ],
   "source": [
    "#Using PAY Columns first\n",
    "X = LimBalCutData[['PAY_1', 'PAY_2', 'PAY_3', 'PAY_4', 'PAY_5', 'PAY_6']]\n",
    "print('Summary of feature sample')\n",
    "X.head()"
   ]
  },
  {
   "cell_type": "code",
   "execution_count": 27,
   "id": "3f9b182c",
   "metadata": {},
   "outputs": [],
   "source": [
    "#Setting Limit Balance Cut Column as Dependent Variable\n",
    "y = LimBalCutData['LIM_BAL_CUT']"
   ]
  },
  {
   "cell_type": "markdown",
   "id": "fc5e480c",
   "metadata": {},
   "source": [
    "#### Cross Validation for Choosing the Right Model"
   ]
  },
  {
   "cell_type": "code",
   "execution_count": 28,
   "id": "f5012325",
   "metadata": {},
   "outputs": [],
   "source": [
    "#Train/Test Split\n",
    "X_train, X_test, y_train, y_test = train_test_split(X, y, test_size = .30, random_state = 123)"
   ]
  },
  {
   "cell_type": "code",
   "execution_count": 29,
   "id": "d75808e1",
   "metadata": {},
   "outputs": [
    {
     "name": "stdout",
     "output_type": "stream",
     "text": [
      "[0.3078 0.3101 0.3091]\n"
     ]
    }
   ],
   "source": [
    "model = DecisionTreeClassifier()\n",
    "print(cross_val_score(model, X, y, cv=3)) # cv = number of folds being held out"
   ]
  },
  {
   "cell_type": "code",
   "execution_count": 30,
   "id": "fd6922c9",
   "metadata": {},
   "outputs": [],
   "source": [
    "#Setting Up Cross Val Check for Multiple Classification Algorithm's to Find Which Estimator Performs Best\n",
    "algos_Class = []\n",
    "algos_Class.append(('Random Forest Classifier', RandomForestClassifier()))\n",
    "algos_Class.append(('Decision Tree Classifier', DecisionTreeClassifier()))\n",
    "algos_Class.append(('Gradient Tree Classifier', GradientBoostingClassifier()))"
   ]
  },
  {
   "cell_type": "code",
   "execution_count": 31,
   "id": "47af87ba",
   "metadata": {},
   "outputs": [],
   "source": [
    "#classification\n",
    "results = []\n",
    "names = []\n",
    "for name, model in algos_Class:\n",
    "    result = cross_val_score(model, X,y, cv=3, scoring='accuracy')\n",
    "    names.append(name)\n",
    "    results.append(result)"
   ]
  },
  {
   "cell_type": "code",
   "execution_count": 32,
   "id": "da0f9a52",
   "metadata": {},
   "outputs": [
    {
     "name": "stdout",
     "output_type": "stream",
     "text": [
      "Random Forest Classifier 0.309\n",
      "Decision Tree Classifier 0.309\n",
      "Gradient Tree Classifier 0.31983333333333336\n"
     ]
    }
   ],
   "source": [
    "for i in range(len(names)):\n",
    "    print(names[i],results[i].mean())"
   ]
  },
  {
   "cell_type": "markdown",
   "id": "140ed521",
   "metadata": {},
   "source": [
    "The Gradient Tree Classifier shows the highest score, so I will use it for the prediction."
   ]
  },
  {
   "cell_type": "markdown",
   "id": "126cbd94",
   "metadata": {},
   "source": [
    "#### Predictions"
   ]
  },
  {
   "cell_type": "code",
   "execution_count": 33,
   "id": "123fb3d5",
   "metadata": {},
   "outputs": [],
   "source": [
    "#Modeling (Classification)\n",
    "algo = GradientBoostingClassifier(max_depth=10)\n",
    "model = algo.fit(X_train,y_train)"
   ]
  },
  {
   "cell_type": "code",
   "execution_count": 34,
   "id": "dd82c7db",
   "metadata": {},
   "outputs": [
    {
     "name": "stdout",
     "output_type": "stream",
     "text": [
      "              precision    recall  f1-score   support\n",
      "\n",
      "       0-50K       0.40      0.45      0.42      2301\n",
      "   100K-200K       0.28      0.59      0.38      2364\n",
      "   200K-300K       0.25      0.18      0.21      1567\n",
      "   300K-400K       0.12      0.01      0.01       764\n",
      "   400K-500K       0.12      0.01      0.02       472\n",
      "   500K-600K       0.00      0.00      0.00        40\n",
      "    50K-100K       0.22      0.02      0.04      1468\n",
      "   600K-700K       0.00      0.00      0.00        18\n",
      "       700K+       0.00      0.00      0.00         6\n",
      "\n",
      "    accuracy                           0.31      9000\n",
      "   macro avg       0.15      0.14      0.12      9000\n",
      "weighted avg       0.27      0.31      0.25      9000\n",
      "\n"
     ]
    }
   ],
   "source": [
    "#Predictions\n",
    "preds = model.predict(X_test)\n",
    "print(classification_report(y_test,preds, zero_division=1))"
   ]
  },
  {
   "cell_type": "markdown",
   "id": "cf256d4e",
   "metadata": {},
   "source": [
    "The accuracy is 30% when LIMIT_BAL is discretized and the data set was ran through a Classification predicitive model. This was used with PAY as the features. I would like to try this again but with BILL_AMT."
   ]
  },
  {
   "cell_type": "markdown",
   "id": "1e1bffe2",
   "metadata": {},
   "source": [
    "#### Feature Importance Test"
   ]
  },
  {
   "cell_type": "code",
   "execution_count": 35,
   "id": "85ccea43",
   "metadata": {},
   "outputs": [],
   "source": [
    "# fit the model\n",
    "model.fit(X, y)\n",
    "# get importance\n",
    "importance = model.feature_importances_"
   ]
  },
  {
   "cell_type": "code",
   "execution_count": 36,
   "id": "2d427cdf",
   "metadata": {},
   "outputs": [
    {
     "name": "stdout",
     "output_type": "stream",
     "text": [
      "Feature: 0, Score: 0.17907\n",
      "Feature: 1, Score: 0.35709\n",
      "Feature: 2, Score: 0.10910\n",
      "Feature: 3, Score: 0.10995\n",
      "Feature: 4, Score: 0.09669\n",
      "Feature: 5, Score: 0.14810\n"
     ]
    }
   ],
   "source": [
    "# summarize feature importance\n",
    "for i,v in enumerate(importance):\n",
    "\tprint('Feature: %0d, Score: %.5f' % (i,v))"
   ]
  },
  {
   "cell_type": "code",
   "execution_count": 37,
   "id": "63c246b1",
   "metadata": {
    "scrolled": true
   },
   "outputs": [
    {
     "data": {
      "image/png": "[encoded data removed]",
      "text/plain": [
       "<Figure size 432x288 with 1 Axes>"
      ]
     },
     "metadata": {
      "needs_background": "light"
     },
     "output_type": "display_data"
    }
   ],
   "source": [
    "# plot feature importance\n",
    "plt.bar([x for x in range(len(importance))], importance)\n",
    "plt.show()"
   ]
  },
  {
   "cell_type": "markdown",
   "id": "aeb5501c",
   "metadata": {},
   "source": [
    "### BILL_AMT Features and Discretized LIMIT_BAL Dependent Variable"
   ]
  },
  {
   "cell_type": "code",
   "execution_count": 38,
   "id": "367fc601",
   "metadata": {},
   "outputs": [
    {
     "name": "stdout",
     "output_type": "stream",
     "text": [
      "Summary of feature sample\n"
     ]
    },
    {
     "data": {
      "text/html": [
       "<div>\n",
       "<style scoped>\n",
       "    .dataframe tbody tr th:only-of-type {\n",
       "        vertical-align: middle;\n",
       "    }\n",
       "\n",
       "    .dataframe tbody tr th {\n",
       "        vertical-align: top;\n",
       "    }\n",
       "\n",
       "    .dataframe thead th {\n",
       "        text-align: right;\n",
       "    }\n",
       "</style>\n",
       "<table border=\"1\" class=\"dataframe\">\n",
       "  <thead>\n",
       "    <tr style=\"text-align: right;\">\n",
       "      <th></th>\n",
       "      <th>BILL_AMT1</th>\n",
       "      <th>BILL_AMT2</th>\n",
       "      <th>BILL_AMT3</th>\n",
       "      <th>BILL_AMT4</th>\n",
       "      <th>BILL_AMT5</th>\n",
       "      <th>BILL_AMT6</th>\n",
       "    </tr>\n",
       "  </thead>\n",
       "  <tbody>\n",
       "    <tr>\n",
       "      <th>0</th>\n",
       "      <td>3913</td>\n",
       "      <td>3102</td>\n",
       "      <td>689</td>\n",
       "      <td>0</td>\n",
       "      <td>0</td>\n",
       "      <td>0</td>\n",
       "    </tr>\n",
       "    <tr>\n",
       "      <th>1</th>\n",
       "      <td>2682</td>\n",
       "      <td>1725</td>\n",
       "      <td>2682</td>\n",
       "      <td>3272</td>\n",
       "      <td>3455</td>\n",
       "      <td>3261</td>\n",
       "    </tr>\n",
       "    <tr>\n",
       "      <th>2</th>\n",
       "      <td>29239</td>\n",
       "      <td>14027</td>\n",
       "      <td>13559</td>\n",
       "      <td>14331</td>\n",
       "      <td>14948</td>\n",
       "      <td>15549</td>\n",
       "    </tr>\n",
       "    <tr>\n",
       "      <th>3</th>\n",
       "      <td>46990</td>\n",
       "      <td>48233</td>\n",
       "      <td>49291</td>\n",
       "      <td>28314</td>\n",
       "      <td>28959</td>\n",
       "      <td>29547</td>\n",
       "    </tr>\n",
       "    <tr>\n",
       "      <th>4</th>\n",
       "      <td>8617</td>\n",
       "      <td>5670</td>\n",
       "      <td>35835</td>\n",
       "      <td>20940</td>\n",
       "      <td>19146</td>\n",
       "      <td>19131</td>\n",
       "    </tr>\n",
       "  </tbody>\n",
       "</table>\n",
       "</div>"
      ],
      "text/plain": [
       "   BILL_AMT1  BILL_AMT2  BILL_AMT3  BILL_AMT4  BILL_AMT5  BILL_AMT6\n",
       "0       3913       3102        689          0          0          0\n",
       "1       2682       1725       2682       3272       3455       3261\n",
       "2      29239      14027      13559      14331      14948      15549\n",
       "3      46990      48233      49291      28314      28959      29547\n",
       "4       8617       5670      35835      20940      19146      19131"
      ]
     },
     "execution_count": 38,
     "metadata": {},
     "output_type": "execute_result"
    }
   ],
   "source": [
    "#Using BILL_AMT Columns\n",
    "X = LimBalCutData[['BILL_AMT1', 'BILL_AMT2', 'BILL_AMT3', 'BILL_AMT4', 'BILL_AMT5', 'BILL_AMT6']]\n",
    "print('Summary of feature sample')\n",
    "X.head()"
   ]
  },
  {
   "cell_type": "code",
   "execution_count": 39,
   "id": "613f15d4",
   "metadata": {},
   "outputs": [],
   "source": [
    "#Setting Limit Balance Cut Column as Dependent Variable\n",
    "y = LimBalCutData['LIM_BAL_CUT']"
   ]
  },
  {
   "cell_type": "markdown",
   "id": "f829fe53",
   "metadata": {},
   "source": [
    "#### Cross Validation for Choosing the Right Model"
   ]
  },
  {
   "cell_type": "code",
   "execution_count": 40,
   "id": "715df13f",
   "metadata": {},
   "outputs": [],
   "source": [
    "#Train/Test Split\n",
    "X_train, X_test, y_train, y_test = train_test_split(X, y, test_size = .30, random_state = 123)"
   ]
  },
  {
   "cell_type": "code",
   "execution_count": 41,
   "id": "74c31d3f",
   "metadata": {},
   "outputs": [
    {
     "name": "stdout",
     "output_type": "stream",
     "text": [
      "[0.3742 0.3865 0.3719]\n"
     ]
    }
   ],
   "source": [
    "model = DecisionTreeClassifier()\n",
    "print(cross_val_score(model, X, y, cv=3)) # cv = number of folds being held out"
   ]
  },
  {
   "cell_type": "code",
   "execution_count": 42,
   "id": "53f5883a",
   "metadata": {},
   "outputs": [],
   "source": [
    "#Setting Up Cross Val Check for Multiple Classification Algorithm's to Find Which Estimator Performs Best\n",
    "algos_Class = []\n",
    "algos_Class.append(('Random Forest Classifier', RandomForestClassifier()))\n",
    "algos_Class.append(('Decision Tree Classifier', DecisionTreeClassifier()))\n",
    "algos_Class.append(('Gradient Tree Classifier', GradientBoostingClassifier()))"
   ]
  },
  {
   "cell_type": "code",
   "execution_count": 43,
   "id": "6eb59c7c",
   "metadata": {},
   "outputs": [],
   "source": [
    "#classification\n",
    "results = []\n",
    "names = []\n",
    "for name, model in algos_Class:\n",
    "    result = cross_val_score(model, X,y, cv=3, scoring='accuracy')\n",
    "    names.append(name)\n",
    "    results.append(result)"
   ]
  },
  {
   "cell_type": "code",
   "execution_count": 44,
   "id": "73d0c09e",
   "metadata": {},
   "outputs": [
    {
     "name": "stdout",
     "output_type": "stream",
     "text": [
      "Random Forest Classifier 0.47150000000000003\n",
      "Decision Tree Classifier 0.37906666666666666\n",
      "Gradient Tree Classifier 0.4826\n"
     ]
    }
   ],
   "source": [
    "for i in range(len(names)):\n",
    "    print(names[i],results[i].mean())"
   ]
  },
  {
   "cell_type": "markdown",
   "id": "f9070558",
   "metadata": {},
   "source": [
    "The Gradient Tree Classifier shows the highest score once again, so I will use it for the prediction."
   ]
  },
  {
   "cell_type": "markdown",
   "id": "a96b21e9",
   "metadata": {},
   "source": [
    "#### Predictions"
   ]
  },
  {
   "cell_type": "code",
   "execution_count": 45,
   "id": "08b02d8a",
   "metadata": {},
   "outputs": [],
   "source": [
    "#Modeling (Classification)\n",
    "algo = GradientBoostingClassifier(max_depth=10)\n",
    "model = algo.fit(X_train,y_train)"
   ]
  },
  {
   "cell_type": "code",
   "execution_count": 46,
   "id": "cde75656",
   "metadata": {},
   "outputs": [
    {
     "name": "stdout",
     "output_type": "stream",
     "text": [
      "              precision    recall  f1-score   support\n",
      "\n",
      "       0-50K       0.64      0.77      0.70      2301\n",
      "   100K-200K       0.41      0.56      0.48      2364\n",
      "   200K-300K       0.33      0.24      0.28      1567\n",
      "   300K-400K       0.29      0.13      0.18       764\n",
      "   400K-500K       0.30      0.11      0.16       472\n",
      "   500K-600K       0.04      0.05      0.05        40\n",
      "    50K-100K       0.49      0.42      0.45      1468\n",
      "   600K-700K       0.00      0.00      0.00        18\n",
      "       700K+       0.00      0.00      0.00         6\n",
      "\n",
      "    accuracy                           0.47      9000\n",
      "   macro avg       0.28      0.25      0.26      9000\n",
      "weighted avg       0.45      0.47      0.45      9000\n",
      "\n"
     ]
    }
   ],
   "source": [
    "#Predictions\n",
    "preds = model.predict(X_test)\n",
    "print(classification_report(y_test,preds, zero_division=1))"
   ]
  },
  {
   "cell_type": "markdown",
   "id": "382fe72b",
   "metadata": {},
   "source": [
    "The accuracy is 48% when LIMIT_BAL is discretized and BILL_AMT columns are used as the features. This an 18% increase from the model using PAY columns as features."
   ]
  },
  {
   "cell_type": "markdown",
   "id": "b2da9ea0",
   "metadata": {},
   "source": [
    "#### Feature Importance Test"
   ]
  },
  {
   "cell_type": "code",
   "execution_count": 47,
   "id": "20813957",
   "metadata": {},
   "outputs": [],
   "source": [
    "# fit the model\n",
    "model.fit(X, y)\n",
    "# get importance\n",
    "importance = model.feature_importances_"
   ]
  },
  {
   "cell_type": "code",
   "execution_count": 48,
   "id": "49975fbe",
   "metadata": {},
   "outputs": [
    {
     "name": "stdout",
     "output_type": "stream",
     "text": [
      "Feature: 0, Score: 0.28358\n",
      "Feature: 1, Score: 0.19540\n",
      "Feature: 2, Score: 0.11754\n",
      "Feature: 3, Score: 0.11494\n",
      "Feature: 4, Score: 0.12096\n",
      "Feature: 5, Score: 0.16757\n"
     ]
    }
   ],
   "source": [
    "# summarize feature importance\n",
    "for i,v in enumerate(importance):\n",
    "\tprint('Feature: %0d, Score: %.5f' % (i,v))"
   ]
  },
  {
   "cell_type": "code",
   "execution_count": 49,
   "id": "39b3e0f3",
   "metadata": {
    "scrolled": false
   },
   "outputs": [
    {
     "data": {
      "image/png": "[encoded data removed]",
      "text/plain": [
       "<Figure size 432x288 with 1 Axes>"
      ]
     },
     "metadata": {
      "needs_background": "light"
     },
     "output_type": "display_data"
    }
   ],
   "source": [
    "# plot feature importance\n",
    "plt.bar([x for x in range(len(importance))], importance)\n",
    "plt.show()"
   ]
  },
  {
   "cell_type": "markdown",
   "id": "6d4f9677",
   "metadata": {},
   "source": [
    "### LIMIT_BAL Classification Predictive Modeling Results"
   ]
  },
  {
   "cell_type": "markdown",
   "id": "48e13048",
   "metadata": {},
   "source": [
    "- I discretized LIMIT_BAL into multiple bins to set up the dependent variable for the Classification predicitive model\n",
    "- Using the PAY columns as the features, the accuracy for predicting LIMIT_BAL with the Gradient Tree Classifier algorithm is 30%. Using the BILL_AMT columns as features, the accuracy for predicting LIMIT_BAL with the Gradient Tree Classifier algorithm is 48%.\n",
    "- Using BILL_AMT as features increases the accuracy. However, 48% is a low predicition accuracy value, and it isn't any better than simply flipping a coin. While it seems that using classification preditive modeling improves the prediction accuracy, it can be safe to say that it isn't really possible to predict the Limit Balance for a customer.\n",
    "- Being that LIMIT_BALANCE is not really predictable, we should focus on being able to predict if a customer is likely to default or not. As stated previously for CreditOne, the ability to check if a user should be approved or not based on their likelihood of defaulting will help remove the risk of losing business from defaulting customers."
   ]
  },
  {
   "cell_type": "markdown",
   "id": "532cc1a0",
   "metadata": {},
   "source": [
    "# Default Status Classification Predictive Modeling"
   ]
  },
  {
   "cell_type": "markdown",
   "id": "4a76f873",
   "metadata": {},
   "source": [
    "DEFAULT_STATUS only has two possible values: 1 or 0. 1 indicates a user has defaulted, while 0 indicates they have not. Being that it only has two possible values, it can be safe to say that this needs a classification machine learning model. During the EDA, it was found that the PAY columns had the best relationship with DEFAULT_STATUS compared to the other possible features available. I will use the PAY columns as the Features and the DEFAULT_STATUS as the dependent variable."
   ]
  },
  {
   "cell_type": "code",
   "execution_count": 50,
   "id": "7bf0eae7",
   "metadata": {},
   "outputs": [
    {
     "name": "stdout",
     "output_type": "stream",
     "text": [
      "Summary of feature sample\n"
     ]
    },
    {
     "data": {
      "text/html": [
       "<div>\n",
       "<style scoped>\n",
       "    .dataframe tbody tr th:only-of-type {\n",
       "        vertical-align: middle;\n",
       "    }\n",
       "\n",
       "    .dataframe tbody tr th {\n",
       "        vertical-align: top;\n",
       "    }\n",
       "\n",
       "    .dataframe thead th {\n",
       "        text-align: right;\n",
       "    }\n",
       "</style>\n",
       "<table border=\"1\" class=\"dataframe\">\n",
       "  <thead>\n",
       "    <tr style=\"text-align: right;\">\n",
       "      <th></th>\n",
       "      <th>PAY_1</th>\n",
       "      <th>PAY_2</th>\n",
       "      <th>PAY_3</th>\n",
       "      <th>PAY_4</th>\n",
       "      <th>PAY_5</th>\n",
       "      <th>PAY_6</th>\n",
       "    </tr>\n",
       "  </thead>\n",
       "  <tbody>\n",
       "    <tr>\n",
       "      <th>0</th>\n",
       "      <td>2</td>\n",
       "      <td>2</td>\n",
       "      <td>-1</td>\n",
       "      <td>-1</td>\n",
       "      <td>-2</td>\n",
       "      <td>-2</td>\n",
       "    </tr>\n",
       "    <tr>\n",
       "      <th>1</th>\n",
       "      <td>-1</td>\n",
       "      <td>2</td>\n",
       "      <td>0</td>\n",
       "      <td>0</td>\n",
       "      <td>0</td>\n",
       "      <td>2</td>\n",
       "    </tr>\n",
       "    <tr>\n",
       "      <th>2</th>\n",
       "      <td>0</td>\n",
       "      <td>0</td>\n",
       "      <td>0</td>\n",
       "      <td>0</td>\n",
       "      <td>0</td>\n",
       "      <td>0</td>\n",
       "    </tr>\n",
       "    <tr>\n",
       "      <th>3</th>\n",
       "      <td>0</td>\n",
       "      <td>0</td>\n",
       "      <td>0</td>\n",
       "      <td>0</td>\n",
       "      <td>0</td>\n",
       "      <td>0</td>\n",
       "    </tr>\n",
       "    <tr>\n",
       "      <th>4</th>\n",
       "      <td>-1</td>\n",
       "      <td>0</td>\n",
       "      <td>-1</td>\n",
       "      <td>0</td>\n",
       "      <td>0</td>\n",
       "      <td>0</td>\n",
       "    </tr>\n",
       "  </tbody>\n",
       "</table>\n",
       "</div>"
      ],
      "text/plain": [
       "   PAY_1  PAY_2  PAY_3  PAY_4  PAY_5  PAY_6\n",
       "0      2      2     -1     -1     -2     -2\n",
       "1     -1      2      0      0      0      2\n",
       "2      0      0      0      0      0      0\n",
       "3      0      0      0      0      0      0\n",
       "4     -1      0     -1      0      0      0"
      ]
     },
     "execution_count": 50,
     "metadata": {},
     "output_type": "execute_result"
    }
   ],
   "source": [
    "#Using PAY columns as features from rawData Dataframe\n",
    "X = rawData[['PAY_1','PAY_2', 'PAY_3', 'PAY_4', 'PAY_5', 'PAY_6',]]\n",
    "print('Summary of feature sample')\n",
    "X.head()"
   ]
  },
  {
   "cell_type": "code",
   "execution_count": 51,
   "id": "74846f6b",
   "metadata": {},
   "outputs": [],
   "source": [
    "#Setting Default Status Column as Dependent Variable\n",
    "y = rawData['DEFAULT_STATUS']"
   ]
  },
  {
   "cell_type": "markdown",
   "id": "216998ad",
   "metadata": {},
   "source": [
    "#### Cross Validation for Choosing the Right Model"
   ]
  },
  {
   "cell_type": "code",
   "execution_count": 52,
   "id": "0e849cca",
   "metadata": {},
   "outputs": [],
   "source": [
    "#Train/Test Split\n",
    "X_train, X_test, y_train, y_test = train_test_split(X, y, test_size = .30, random_state = 123)"
   ]
  },
  {
   "cell_type": "code",
   "execution_count": 53,
   "id": "3eab41ea",
   "metadata": {},
   "outputs": [
    {
     "name": "stdout",
     "output_type": "stream",
     "text": [
      "[0.8061 0.8189 0.8187]\n"
     ]
    }
   ],
   "source": [
    "model = DecisionTreeClassifier()\n",
    "print(cross_val_score(model, X, y, cv=3)) # cv = number of folds being held out"
   ]
  },
  {
   "cell_type": "code",
   "execution_count": 54,
   "id": "553b3005",
   "metadata": {},
   "outputs": [],
   "source": [
    "#Setting Up Cross Val Check for Multiple Classification Algorithm's to Find Which Estimator Performs Best\n",
    "algos_Class = []\n",
    "algos_Class.append(('Random Forest Classifier', RandomForestClassifier()))\n",
    "algos_Class.append(('Decision Tree Classifier', DecisionTreeClassifier()))\n",
    "algos_Class.append(('Gradient Tree Classifier', GradientBoostingClassifier()))"
   ]
  },
  {
   "cell_type": "code",
   "execution_count": 55,
   "id": "82f0fceb",
   "metadata": {},
   "outputs": [],
   "source": [
    "#classification\n",
    "results = []\n",
    "names = []\n",
    "for name, model in algos_Class:\n",
    "    result = cross_val_score(model, X,y, cv=3, scoring='accuracy')\n",
    "    names.append(name)\n",
    "    results.append(result)"
   ]
  },
  {
   "cell_type": "code",
   "execution_count": 56,
   "id": "5142c304",
   "metadata": {},
   "outputs": [
    {
     "name": "stdout",
     "output_type": "stream",
     "text": [
      "Random Forest Classifier 0.8144\n",
      "Decision Tree Classifier 0.8146\n",
      "Gradient Tree Classifier 0.8207666666666666\n"
     ]
    }
   ],
   "source": [
    "for i in range(len(names)):\n",
    "    print(names[i],results[i].mean())"
   ]
  },
  {
   "cell_type": "markdown",
   "id": "cbf59a1d",
   "metadata": {},
   "source": [
    "The Gradient Tree Classifier shows the highest score once again, so I will use it for the prediction."
   ]
  },
  {
   "cell_type": "markdown",
   "id": "87cd8c02",
   "metadata": {},
   "source": [
    "#### Predictions"
   ]
  },
  {
   "cell_type": "code",
   "execution_count": 57,
   "id": "04576716",
   "metadata": {},
   "outputs": [],
   "source": [
    "#Modeling (Classification)\n",
    "algo = GradientBoostingClassifier(max_depth=10)\n",
    "model = algo.fit(X_train,y_train)"
   ]
  },
  {
   "cell_type": "code",
   "execution_count": 58,
   "id": "e12032f4",
   "metadata": {},
   "outputs": [
    {
     "name": "stdout",
     "output_type": "stream",
     "text": [
      "              precision    recall  f1-score   support\n",
      "\n",
      "           0       0.84      0.94      0.89      7052\n",
      "           1       0.63      0.37      0.46      1948\n",
      "\n",
      "    accuracy                           0.82      9000\n",
      "   macro avg       0.73      0.65      0.68      9000\n",
      "weighted avg       0.80      0.82      0.80      9000\n",
      "\n"
     ]
    }
   ],
   "source": [
    "#Predictions\n",
    "preds = model.predict(X_test)\n",
    "print(classification_report(y_test,preds, zero_division=1))"
   ]
  },
  {
   "cell_type": "markdown",
   "id": "5e79764c",
   "metadata": {},
   "source": [
    "- The accuracy is 82% when predicting the DEFAULT_STATUS with GradientBoostingClassifier model. This is very high and promising!\n",
    "- When the model predicts a user will default (1), it is correct 63% of the time. When it predicts a user will not default (0), it is correct 84% of the time.\n",
    "- The model has 94% recall of 0, meaning that it correctly identifies 94% of all users who did not default. The model has a 37% recall of 1, meaning that it correctly identifies 37% of users who did default."
   ]
  },
  {
   "cell_type": "markdown",
   "id": "068daa89",
   "metadata": {},
   "source": [
    "#### Feature Importance Test"
   ]
  },
  {
   "cell_type": "code",
   "execution_count": 59,
   "id": "f4471eed",
   "metadata": {},
   "outputs": [],
   "source": [
    "# fit the model\n",
    "model.fit(X, y)\n",
    "# get importance\n",
    "importance = model.feature_importances_"
   ]
  },
  {
   "cell_type": "code",
   "execution_count": 60,
   "id": "f71e6b40",
   "metadata": {},
   "outputs": [
    {
     "name": "stdout",
     "output_type": "stream",
     "text": [
      "Feature: 0, Score: 0.64820\n",
      "Feature: 1, Score: 0.14589\n",
      "Feature: 2, Score: 0.04628\n",
      "Feature: 3, Score: 0.06049\n",
      "Feature: 4, Score: 0.04307\n",
      "Feature: 5, Score: 0.05607\n"
     ]
    }
   ],
   "source": [
    "# summarize feature importance\n",
    "for i,v in enumerate(importance):\n",
    "\tprint('Feature: %0d, Score: %.5f' % (i,v))"
   ]
  },
  {
   "cell_type": "code",
   "execution_count": 61,
   "id": "11c0c87f",
   "metadata": {
    "scrolled": false
   },
   "outputs": [
    {
     "data": {
      "image/png": "[encoded data removed]",
      "text/plain": [
       "<Figure size 432x288 with 1 Axes>"
      ]
     },
     "metadata": {
      "needs_background": "light"
     },
     "output_type": "display_data"
    }
   ],
   "source": [
    "# plot feature importance\n",
    "plt.bar([x for x in range(len(importance))], importance)\n",
    "plt.show()"
   ]
  },
  {
   "cell_type": "markdown",
   "id": "69896ac3",
   "metadata": {},
   "source": [
    "### Default Status Classification Predictive Modeling Results"
   ]
  },
  {
   "cell_type": "markdown",
   "id": "245b643b",
   "metadata": {},
   "source": [
    "- Predicting LIMIT_BAL is not exactly possible, so I decided that it was best to set up a model that can predict if a customer is likely to default or not.\n",
    "- The prediction accuracy of the Gradient Boosting Classifier model is 84%, which is very high. It is safe to say that is possible to predict a user's likelihood to default. The features used for the prediction are the PAY columns, which indicate what the user did during the pay period. The very first pay period (PAY_1) has the highest feature importance when using this prediction model."
   ]
  }
 ],
 "metadata": {
  "kernelspec": {
   "display_name": "Python 3 (ipykernel)",
   "language": "python",
   "name": "python3"
  },
  "language_info": {
   "codemirror_mode": {
    "name": "ipython",
    "version": 3
   },
   "file_extension": ".py",
   "mimetype": "text/x-python",
   "name": "python",
   "nbconvert_exporter": "python",
   "pygments_lexer": "ipython3",
   "version": "3.9.12"
  }
 },
 "nbformat": 4,
 "nbformat_minor": 5
}
